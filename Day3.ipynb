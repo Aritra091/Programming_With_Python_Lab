{
  "nbformat": 4,
  "nbformat_minor": 0,
  "metadata": {
    "colab": {
      "provenance": [],
      "toc_visible": true
    },
    "kernelspec": {
      "name": "python3",
      "display_name": "Python 3"
    },
    "language_info": {
      "name": "python"
    }
  },
  "cells": [
    {
      "cell_type": "code",
      "execution_count": null,
      "metadata": {
        "colab": {
          "base_uri": "https://localhost:8080/"
        },
        "id": "06UhmRyE85P_",
        "outputId": "8aead494-8347-411c-95f7-2f6b50e58974"
      },
      "outputs": [
        {
          "output_type": "stream",
          "name": "stdout",
          "text": [
            "{1, 2, 3, 4, 5, 6}\n"
          ]
        }
      ],
      "source": [
        "#Union of 2 sets\n",
        "\n",
        "set1 = {1,2,3,4}\n",
        "set2 = {5,6}\n",
        "set34 = set1|set2\n",
        "print(set34)\n"
      ]
    },
    {
      "cell_type": "code",
      "source": [
        "#Intersection of 2 sets\n",
        "\n",
        "set1 = {1,2,3,4}\n",
        "set2 = {2,4}\n",
        "set3 = set1 and set2\n",
        "print(set3)"
      ],
      "metadata": {
        "colab": {
          "base_uri": "https://localhost:8080/"
        },
        "id": "zmqELnDt9L4i",
        "outputId": "117bc202-5060-4635-d7e3-89a470923bdf"
      },
      "execution_count": null,
      "outputs": [
        {
          "output_type": "stream",
          "name": "stdout",
          "text": [
            "{2, 4}\n"
          ]
        }
      ]
    },
    {
      "cell_type": "code",
      "source": [
        "#Difference of 2 sets\n",
        "\n",
        "set1 = {1,2,3,4}\n",
        "set2 = {2,4}\n",
        "set3 = set1-set2\n",
        "print(set3)"
      ],
      "metadata": {
        "colab": {
          "base_uri": "https://localhost:8080/"
        },
        "id": "MfUQ_00Q9kUX",
        "outputId": "fd9dc877-385b-4894-f0f3-ac3180d85a94"
      },
      "execution_count": null,
      "outputs": [
        {
          "output_type": "stream",
          "name": "stdout",
          "text": [
            "{1, 3}\n"
          ]
        }
      ]
    },
    {
      "cell_type": "code",
      "source": [
        "#Symmetric operation\n",
        "\n",
        "set1 = {1,2,3,4}\n",
        "set2 = {1,3,5,6}\n",
        "set3 = set1 ^ set2\n",
        "print(set3)"
      ],
      "metadata": {
        "colab": {
          "base_uri": "https://localhost:8080/"
        },
        "id": "ioyVW42W9vci",
        "outputId": "726d98b4-39ea-4554-dc14-4640ccd97af4"
      },
      "execution_count": null,
      "outputs": [
        {
          "output_type": "stream",
          "name": "stdout",
          "text": [
            "{2, 4, 5, 6}\n"
          ]
        }
      ]
    },
    {
      "cell_type": "code",
      "source": [
        "#Equal\n",
        "\n",
        "set1 = {1,2,3,4}\n",
        "set2 = {1,2,3,4}\n",
        "set3 = set1 == set2\n",
        "print(set3)"
      ],
      "metadata": {
        "colab": {
          "base_uri": "https://localhost:8080/"
        },
        "id": "Dj5cJBVX-Os_",
        "outputId": "686df941-fc12-443e-acad-6734e6b02ae1"
      },
      "execution_count": null,
      "outputs": [
        {
          "output_type": "stream",
          "name": "stdout",
          "text": [
            "True\n"
          ]
        }
      ]
    },
    {
      "cell_type": "code",
      "source": [
        "import numpy as np\n",
        "a = np.array([1,2,3,4])\n",
        "print(a)"
      ],
      "metadata": {
        "id": "VPZKA_Ka_f5d",
        "colab": {
          "base_uri": "https://localhost:8080/"
        },
        "outputId": "4a26214b-5ef2-4fd7-b9af-d1c9c2bfdc12"
      },
      "execution_count": null,
      "outputs": [
        {
          "output_type": "stream",
          "name": "stdout",
          "text": [
            "[1 2 3 4]\n"
          ]
        }
      ]
    },
    {
      "cell_type": "code",
      "source": [
        "import numpy as np\n",
        "a = np.array([[1,2,3,4],\n",
        "      [1,2,3,4]])\n",
        "print(a)\n",
        "print(a.shape)"
      ],
      "metadata": {
        "colab": {
          "base_uri": "https://localhost:8080/"
        },
        "id": "AqZnHdtCEWvr",
        "outputId": "1574998c-bd2c-4504-ba07-ce6a6e7ffe52"
      },
      "execution_count": null,
      "outputs": [
        {
          "output_type": "stream",
          "name": "stdout",
          "text": [
            "[[1 2 3 4]\n",
            " [1 2 3 4]]\n",
            "(2, 4)\n"
          ]
        }
      ]
    },
    {
      "cell_type": "code",
      "source": [
        "#array with evenly spaced value\n",
        "import numpy as np\n",
        "a = np.arange(1,10,2)\n",
        "print(a)"
      ],
      "metadata": {
        "colab": {
          "base_uri": "https://localhost:8080/"
        },
        "id": "T4nMdx3lEmZf",
        "outputId": "d2525960-858e-4847-e122-792e52c97204"
      },
      "execution_count": null,
      "outputs": [
        {
          "output_type": "stream",
          "name": "stdout",
          "text": [
            "[1 3 5 7 9]\n"
          ]
        }
      ]
    },
    {
      "cell_type": "code",
      "source": [
        "#array with linear space value\n",
        "import numpy as np\n",
        "a = np.linspace(1,10,5)\n",
        "print(a)"
      ],
      "metadata": {
        "colab": {
          "base_uri": "https://localhost:8080/"
        },
        "id": "vTyUGziBE6Js",
        "outputId": "ce893c49-4152-4f99-999c-6470b960aef2"
      },
      "execution_count": null,
      "outputs": [
        {
          "output_type": "stream",
          "name": "stdout",
          "text": [
            "[ 1.    3.25  5.5   7.75 10.  ]\n"
          ]
        }
      ]
    },
    {
      "cell_type": "code",
      "source": [
        "#array with identity matrix\n",
        "import numpy as np\n",
        "a = np.eye(3)\n",
        "print(a)"
      ],
      "metadata": {
        "colab": {
          "base_uri": "https://localhost:8080/"
        },
        "id": "iDPaMM9IFBEl",
        "outputId": "2e99129c-46d8-4944-ca8d-570454a6873c"
      },
      "execution_count": null,
      "outputs": [
        {
          "output_type": "stream",
          "name": "stdout",
          "text": [
            "[[1. 0. 0.]\n",
            " [0. 1. 0.]\n",
            " [0. 0. 1.]]\n"
          ]
        }
      ]
    },
    {
      "cell_type": "code",
      "source": [
        "#random array\n",
        "import numpy as np\n",
        "a = np.random.rand(3)\n",
        "print(a)"
      ],
      "metadata": {
        "colab": {
          "base_uri": "https://localhost:8080/"
        },
        "id": "15x1wHtvFH1t",
        "outputId": "30356655-a08a-4f3d-ab05-c1191ff78945"
      },
      "execution_count": null,
      "outputs": [
        {
          "output_type": "stream",
          "name": "stdout",
          "text": [
            "[0.94001257 0.00379378 0.7771724 ]\n"
          ]
        }
      ]
    },
    {
      "cell_type": "code",
      "source": [
        "#element wise addition\n",
        "import numpy as np\n",
        "a = np.array([1,2,3,4])\n",
        "b = np.array([1,2,3,4])\n",
        "c = np.add(a,b)\n",
        "print(c)"
      ],
      "metadata": {
        "colab": {
          "base_uri": "https://localhost:8080/"
        },
        "id": "3kdp6mAUFQ-3",
        "outputId": "3ba09ffb-6141-4b5f-a29d-4292573da599"
      },
      "execution_count": null,
      "outputs": [
        {
          "output_type": "stream",
          "name": "stdout",
          "text": [
            "[2 4 6 8]\n"
          ]
        }
      ]
    },
    {
      "cell_type": "code",
      "source": [
        "#element wise multiplication\n",
        "import numpy as np\n",
        "a = np.array([1,2,3,4])\n",
        "b = np.array([1,2,3,4])\n",
        "c = np.multiply(a,b)\n",
        "print(c)"
      ],
      "metadata": {
        "colab": {
          "base_uri": "https://localhost:8080/"
        },
        "id": "d6Dns15jFmfp",
        "outputId": "ec2469c4-682c-4ec8-f806-2ee8e2804870"
      },
      "execution_count": null,
      "outputs": [
        {
          "output_type": "stream",
          "name": "stdout",
          "text": [
            "[ 1  4  9 16]\n"
          ]
        }
      ]
    },
    {
      "cell_type": "code",
      "source": [
        "#exponentiation\n",
        "import numpy as np\n",
        "a = np.array([1,2,3,4])\n",
        "b = np.array([1,2,3,4])\n",
        "c = np.exp(a)\n",
        "print(c)"
      ],
      "metadata": {
        "colab": {
          "base_uri": "https://localhost:8080/"
        },
        "id": "TxsoSpWZFtz3",
        "outputId": "b58e68e8-6616-4243-ade2-81be38e114fd"
      },
      "execution_count": null,
      "outputs": [
        {
          "output_type": "stream",
          "name": "stdout",
          "text": [
            "[ 2.71828183  7.3890561  20.08553692 54.59815003]\n"
          ]
        }
      ]
    },
    {
      "cell_type": "code",
      "source": [
        "#square root\n",
        "import numpy as np\n",
        "a = np.array([1,2,3,4])\n",
        "c = np.sqrt(a)\n",
        "print(c)"
      ],
      "metadata": {
        "colab": {
          "base_uri": "https://localhost:8080/"
        },
        "id": "mF_fTxjcFxlP",
        "outputId": "d43b7809-ac26-47ed-c400-48f73c44dea2"
      },
      "execution_count": null,
      "outputs": [
        {
          "output_type": "stream",
          "name": "stdout",
          "text": [
            "[1.         1.41421356 1.73205081 2.        ]\n"
          ]
        }
      ]
    },
    {
      "cell_type": "code",
      "source": [
        "#mean\n",
        "import numpy as np\n",
        "a = np.array([1,2,3,4])\n",
        "c = np.mean(a)\n",
        "print(c)"
      ],
      "metadata": {
        "colab": {
          "base_uri": "https://localhost:8080/"
        },
        "id": "8CG1daODF2rW",
        "outputId": "724a2696-219c-406a-fd1e-fd8f2533eb26"
      },
      "execution_count": null,
      "outputs": [
        {
          "output_type": "stream",
          "name": "stdout",
          "text": [
            "2.5\n"
          ]
        }
      ]
    },
    {
      "cell_type": "code",
      "source": [
        "#median\n",
        "import numpy as np\n",
        "a = np.array([1,2,3,4])\n",
        "c = np.median(a)\n",
        "print(c)"
      ],
      "metadata": {
        "colab": {
          "base_uri": "https://localhost:8080/"
        },
        "id": "C1tFXIARF_Cy",
        "outputId": "7e744874-e27f-4f11-f13a-d7ea0c861756"
      },
      "execution_count": null,
      "outputs": [
        {
          "output_type": "stream",
          "name": "stdout",
          "text": [
            "2.5\n"
          ]
        }
      ]
    },
    {
      "cell_type": "code",
      "source": [
        "#standard deviation\n",
        "import numpy as np\n",
        "a = np.array([1,2,3,4])\n",
        "c = np.std(a)\n",
        "print(c)"
      ],
      "metadata": {
        "colab": {
          "base_uri": "https://localhost:8080/"
        },
        "id": "u1Y0Lb68GDWZ",
        "outputId": "ceda661d-9e22-456e-cdd2-7607909eb895"
      },
      "execution_count": null,
      "outputs": [
        {
          "output_type": "stream",
          "name": "stdout",
          "text": [
            "1.118033988749895\n"
          ]
        }
      ]
    },
    {
      "cell_type": "code",
      "source": [
        "#minimum and maximum\n",
        "import numpy as np\n",
        "a = np.array([1,2,3,4])\n",
        "print(a.min())\n",
        "print(a.max())"
      ],
      "metadata": {
        "colab": {
          "base_uri": "https://localhost:8080/"
        },
        "id": "Dr7zTjT0GHAv",
        "outputId": "c03543b8-5f6f-4686-b78a-1efc11f98947"
      },
      "execution_count": null,
      "outputs": [
        {
          "output_type": "stream",
          "name": "stdout",
          "text": [
            "1\n",
            "4\n"
          ]
        }
      ]
    },
    {
      "cell_type": "code",
      "source": [
        "# 2d matrix multiplication\n",
        "import numpy as np\n",
        "a = np.array([[1,2],\n",
        "      [3,4]])\n",
        "b = np.array([[3,4],\n",
        "      [1,2]])\n",
        "c = np.matmul(a,b)\n",
        "print(c)"
      ],
      "metadata": {
        "colab": {
          "base_uri": "https://localhost:8080/"
        },
        "id": "vmIEoAL0GK4Z",
        "outputId": "fdcb7a7e-b422-4279-fb90-6801290b93f4"
      },
      "execution_count": null,
      "outputs": [
        {
          "output_type": "stream",
          "name": "stdout",
          "text": [
            "[[ 5  8]\n",
            " [13 20]]\n"
          ]
        }
      ]
    },
    {
      "cell_type": "code",
      "source": [
        "# matrix inverse\n",
        "import numpy as np\n",
        "a = np.array([[1,2],\n",
        "      [3,4]])\n",
        "inv = np.linalg.inv(a)\n",
        "print(inv)"
      ],
      "metadata": {
        "colab": {
          "base_uri": "https://localhost:8080/"
        },
        "id": "6F-qtMN5G8cT",
        "outputId": "66f9a12e-f40c-467e-fd8c-1e00525fed91"
      },
      "execution_count": null,
      "outputs": [
        {
          "output_type": "stream",
          "name": "stdout",
          "text": [
            "[[-2.   1. ]\n",
            " [ 1.5 -0.5]]\n"
          ]
        }
      ]
    },
    {
      "cell_type": "code",
      "source": [
        "#random float in [0.0, 1.0]\n",
        "import numpy as np\n",
        "rand_float = np.random.random()\n",
        "print(rand_float)"
      ],
      "metadata": {
        "colab": {
          "base_uri": "https://localhost:8080/"
        },
        "id": "8qdgxOVjHHYO",
        "outputId": "b991178d-9ee6-4944-bafd-4402cee5f044"
      },
      "execution_count": null,
      "outputs": [
        {
          "output_type": "stream",
          "name": "stdout",
          "text": [
            "0.8527201399701548\n"
          ]
        }
      ]
    },
    {
      "cell_type": "code",
      "source": [
        "#random integer between 0 to 9\n",
        "import numpy as np\n",
        "rand_int = np.random.randint(0,10)\n",
        "print(rand_int)"
      ],
      "metadata": {
        "colab": {
          "base_uri": "https://localhost:8080/"
        },
        "id": "W3P5QKbfHXHt",
        "outputId": "2f3a3372-9cf1-4468-b80d-3941b7511340"
      },
      "execution_count": null,
      "outputs": [
        {
          "output_type": "stream",
          "name": "stdout",
          "text": [
            "6\n"
          ]
        }
      ]
    }
  ]
}